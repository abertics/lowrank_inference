{
 "cells": [
  {
   "cell_type": "markdown",
   "metadata": {},
   "source": [
    "## Load data and RNN weights"
   ]
  },
  {
   "cell_type": "code",
   "execution_count": 90,
   "metadata": {},
   "outputs": [],
   "source": [
    "import numpy as np\n",
    "import matplotlib.pyplot as plt\n",
    "import torch\n",
    "from low_rank_rnns import stats, mante\n",
    "from low_rank_rnns.modules import FullRankRNN, LowRankRNN\n",
    "import pandas as pd\n"
   ]
  },
  {
   "cell_type": "code",
   "execution_count": 91,
   "metadata": {},
   "outputs": [],
   "source": [
    "# This is how they loaded inputs before. I can't run it because I don't have the *.mat files.\n",
    "\n",
    "# %%time\n",
    "# bin_width = 5\n",
    "# smoothing_width = 50\n",
    "\n",
    "# # dataset = dlm.ManteDataset(monkey='A', bin_width=bin_width, smoothing_width=smoothing_width, cavg=True)"
   ]
  },
  {
   "cell_type": "code",
   "execution_count": 92,
   "metadata": {},
   "outputs": [
    {
     "data": {
      "text/plain": [
       "(72, 150, 727)"
      ]
     },
     "execution_count": 92,
     "metadata": {},
     "output_type": "execute_result"
    }
   ],
   "source": [
    "# I can load their processed monkey neural data. I don't know how to align it to the RNN output though, because constants are messed up.\n",
    "X_monkeyA = np.load(\"../data/X_cent_monkeyA.npy\")\n",
    "X_monkeyA.shape # 72 trajectories x 150 time x 727 neurons"
   ]
  },
  {
   "cell_type": "code",
   "execution_count": 93,
   "metadata": {},
   "outputs": [
    {
     "name": "stdout",
     "output_type": "stream",
     "text": [
      "is this the same?\n"
     ]
    },
    {
     "data": {
      "text/plain": [
       "torch.Size([72, 274, 4])"
      ]
     },
     "execution_count": 93,
     "metadata": {},
     "output_type": "execute_result"
    }
   ],
   "source": [
    "# god help me first need to navigate their data loading\n",
    "mante.deltaT = 5.\n",
    "mante.setup()\n",
    "\n",
    "conditions = pd.read_csv('../data/conditions_monkeyA.csv')\n",
    "correct_trials = conditions.correct == 1\n",
    "\n",
    "inputs, _, _ = mante.generate_mante_data_from_conditions(conditions[correct_trials]['stim_dir'].to_numpy(),\n",
    "                                                         conditions[correct_trials]['stim_col'].to_numpy(),\n",
    "                                                         conditions[correct_trials]['context'].to_numpy())\n",
    "inputs.shape"
   ]
  },
  {
   "cell_type": "code",
   "execution_count": 97,
   "metadata": {},
   "outputs": [
    {
     "data": {
      "text/plain": [
       "[<matplotlib.lines.Line2D at 0x7f32a851f7c0>,\n",
       " <matplotlib.lines.Line2D at 0x7f32a851f910>,\n",
       " <matplotlib.lines.Line2D at 0x7f32a851fa60>,\n",
       " <matplotlib.lines.Line2D at 0x7f32a851fbb0>]"
      ]
     },
     "execution_count": 97,
     "metadata": {},
     "output_type": "execute_result"
    },
    {
     "data": {
      "image/png": "[encoded data removed]",
      "text/plain": [
       "<Figure size 640x480 with 1 Axes>"
      ]
     },
     "metadata": {},
     "output_type": "display_data"
    }
   ],
   "source": [
    "# Task looks reasonable\n",
    "plt.plot(inputs[9,:,:])"
   ]
  },
  {
   "cell_type": "code",
   "execution_count": 13,
   "metadata": {},
   "outputs": [],
   "source": [
    "# print(mante.fixation_duration_discrete)\n",
    "# print(mante.stimulus_duration_discrete)\n",
    "# print(mante.delay_duration_discrete)\n",
    "# print(mante.ctx_only_pre_duration_discrete)\n",
    "# print(mante.decision_duration_discrete)\n",
    "# print(mante.response_begin)\n",
    "# print(mante.stim_end)\n",
    "# print(mante.delay_duration_discrete)"
   ]
  },
  {
   "cell_type": "markdown",
   "metadata": {},
   "source": [
    "## Get neural trajectories"
   ]
  },
  {
   "cell_type": "code",
   "execution_count": 98,
   "metadata": {},
   "outputs": [],
   "source": [
    "# Load NN\n",
    "n_neurons = 727\n",
    "hidden_neurons = 0\n",
    "\n",
    "size = n_neurons + hidden_neurons\n",
    "\n",
    "net_fr = FullRankRNN(4, size, n_neurons, 0, 0.2, output_non_linearity=(lambda x: x))\n",
    "net_fr.load_state_dict(torch.load('../models/mante_monkeyA_subspace_22.pt'))\n",
    "\n",
    "net_lr = LowRankRNN(4, size, n_neurons, 0, 0.2, output_non_linearity=(lambda x: x), rank=2)\n",
    "net_lr.load_state_dict(torch.load('../models/mante_monkeyA_subspace_rank2_22.pt'))"
   ]
  },
  {
   "cell_type": "code",
   "execution_count": 99,
   "metadata": {},
   "outputs": [
    {
     "data": {
      "text/plain": [
       "torch.Size([72, 275, 727])"
      ]
     },
     "execution_count": 99,
     "metadata": {},
     "output_type": "execute_result"
    }
   ],
   "source": [
    "# Run on inputs\n",
    "_, traj_fr = net_fr(inputs, return_dynamics=True)\n",
    "traj_fr.shape"
   ]
  },
  {
   "cell_type": "code",
   "execution_count": 100,
   "metadata": {},
   "outputs": [
    {
     "name": "stdout",
     "output_type": "stream",
     "text": [
      "fr - lr  = 972.3126831054688 (should be teeny tiny!)\n"
     ]
    }
   ],
   "source": [
    "# Run on inputs\n",
    "_, traj_lr = net_lr(inputs, return_dynamics=True)\n",
    "print(f\"fr - lr  = {np.linalg.norm(traj_fr.detach().numpy()-traj_lr.detach().numpy())} (should be teeny tiny!)\")"
   ]
  },
  {
   "cell_type": "markdown",
   "metadata": {},
   "source": [
    "## Calculate projection matrix\n",
    "\n",
    "P is subspace spanned by {x[s]}\n",
    "\n",
    "We have data matrix X, which is s samples x n neurons. (s samples = trajectories * timepoints)\n",
    "* each row is one sample\n",
    "* subspace is the row space of X (subspace of R^n)\n",
    "* P is nxn, an orthogonal projection matrix into row space of X\n",
    "\n"
   ]
  },
  {
   "cell_type": "code",
   "execution_count": 101,
   "metadata": {},
   "outputs": [
    {
     "data": {
      "text/plain": [
       "torch.Size([72, 274, 4])"
      ]
     },
     "execution_count": 101,
     "metadata": {},
     "output_type": "execute_result"
    }
   ],
   "source": [
    "inputs.shape"
   ]
  },
  {
   "cell_type": "code",
   "execution_count": 102,
   "metadata": {},
   "outputs": [
    {
     "data": {
      "text/plain": [
       "(19728, 731)"
      ]
     },
     "execution_count": 102,
     "metadata": {},
     "output_type": "execute_result"
    }
   ],
   "source": [
    "# First make data matrix X which should be samples x {num neurons + input}\n",
    "# X_neurons = X_monkeyA.reshape(-1, X_monkeyA.shape[2]) \n",
    "X_neurons = traj_fr[:, 1:, :].reshape(-1, traj_fr.shape[2]) # (72, 274, 727) -> (72*274, 727)\n",
    "X_input = inputs.reshape(-1, inputs.shape[2]) # (72, 274, 4) -> (72*274, 4)\n",
    "\n",
    "X_both = torch.cat([torch.tanh(X_neurons), X_input], axis=1).detach().numpy()\n",
    "X_both.shape"
   ]
  },
  {
   "cell_type": "code",
   "execution_count": 103,
   "metadata": {},
   "outputs": [],
   "source": [
    "# Use SVD to find row space of X (first r right singular vectors with non-zero singular values)\n",
    "# X = UΣV^T\n",
    "U, S, VT = np.linalg.svd(X_both, full_matrices=False)"
   ]
  },
  {
   "cell_type": "code",
   "execution_count": 104,
   "metadata": {},
   "outputs": [
    {
     "name": "stdout",
     "output_type": "stream",
     "text": [
      "X is of rank 26\n"
     ]
    }
   ],
   "source": [
    "# determine numerical rank\n",
    "eps = np.finfo(S.dtype).eps\n",
    "tol = max(X_both.shape) * eps * S.max()\n",
    "r = np.sum(S > tol)\n",
    "print(f\"X is of rank {r}\")\n",
    "\n",
    "# V_r is n x r\n",
    "V_r = VT[:r].T   # shape (727, r)\n",
    "\n",
    "# P = VV^T\n",
    "P = V_r @ V_r.T"
   ]
  },
  {
   "cell_type": "code",
   "execution_count": 105,
   "metadata": {},
   "outputs": [
    {
     "name": "stdout",
     "output_type": "stream",
     "text": [
      "|x - Px| = 0.0 (should be teeny tiny!)\n"
     ]
    }
   ],
   "source": [
    "# let's test it doesn't affect our x's\n",
    "x_example = X_both[0]\n",
    "print(f\"|x - Px| = {np.linalg.norm(x_example - (P @ x_example))} (should be teeny tiny!)\")"
   ]
  },
  {
   "cell_type": "code",
   "execution_count": 106,
   "metadata": {},
   "outputs": [
    {
     "data": {
      "text/plain": [
       "(731, 731)"
      ]
     },
     "execution_count": 106,
     "metadata": {},
     "output_type": "execute_result"
    }
   ],
   "source": [
    "P.shape"
   ]
  },
  {
   "cell_type": "markdown",
   "metadata": {},
   "source": [
    "## load weight matrix"
   ]
  },
  {
   "cell_type": "code",
   "execution_count": 108,
   "metadata": {},
   "outputs": [
    {
     "name": "stdout",
     "output_type": "stream",
     "text": [
      "torch.Size([4, 727])\n",
      "torch.Size([727, 727])\n",
      "torch.Size([727, 727])\n",
      "torch.Size([727, 4])\n",
      "(727, 731)\n"
     ]
    }
   ],
   "source": [
    "print(net_fr.wi.shape) # wi and wi_full are the same hopefully; they run this every forward step self.wi_full = (self.wi.t() * self.si).t() and si seems to be 1s\n",
    "print(net_fr.wrec.shape)\n",
    "print(net_fr.wrec.t().shape)\n",
    "print(net_fr.wi.t().shape)\n",
    "\n",
    "theta = torch.cat([net_fr.wrec, net_fr.wi.t()], axis=1).detach().numpy() # recurrent weights - (727, 727) + input weights 4x727\n",
    "# theta = torch.cat([net_fr.wrec.t(), net_fr.wi_full.t()], axis=1).detach().numpy() # recurrent weights - (727, 727) + input weights 4x727\n",
    "print(theta.shape)"
   ]
  },
  {
   "cell_type": "code",
   "execution_count": 109,
   "metadata": {},
   "outputs": [
    {
     "name": "stdout",
     "output_type": "stream",
     "text": [
      "|θ - (θP + θ(I-P))| = 2.033554760217995e-06 (should be teeny tiny!)\n"
     ]
    }
   ],
   "source": [
    "# let's see about θP\n",
    "theta_proj = theta @ P\n",
    "theta_other = theta @ (np.eye(P.shape[0]) - P)\n",
    "\n",
    "print(f\"|θ - (θP + θ(I-P))| = {np.linalg.norm(theta - (theta_proj + theta_other))} (should be teeny tiny!)\")"
   ]
  },
  {
   "cell_type": "code",
   "execution_count": 113,
   "metadata": {},
   "outputs": [],
   "source": [
    "device = \"cpu\" # doesn't work if cuda... \n",
    "wrec_proj = torch.tensor(theta_proj[:, :727].T, device=device)\n",
    "wi_full_proj = torch.tensor(theta_proj[:, 727:].T, device=device)\n",
    "\n",
    "net_fr_proj = net_fr.clone()\n",
    "\n",
    "net_fr_proj.wrec = torch.nn.Parameter(wrec_proj)\n",
    "net_fr_proj.wi = torch.nn.Parameter(wi_full_proj).to(device) # w.si is 1s so this is fine"
   ]
  },
  {
   "cell_type": "code",
   "execution_count": 114,
   "metadata": {},
   "outputs": [
    {
     "name": "stdout",
     "output_type": "stream",
     "text": [
      "normal v proj. θ = 1788.627685546875 (should be teeny tiny!)\n",
      "r2 -1.7546436786651611\n"
     ]
    }
   ],
   "source": [
    "_, traj_fr_proj = net_fr_proj(inputs, return_dynamics=True)\n",
    "\n",
    "print(f\"normal v proj. θ = {np.linalg.norm(traj_fr.detach().numpy()-traj_fr_proj.detach().numpy())} (should be teeny tiny!)\")\n",
    "\n",
    "r2_global_fr = stats.r2_score(traj_fr_proj.detach().numpy().ravel(), traj_fr.detach().numpy().ravel())\n",
    "print(f\"r2 {r2_global_fr}\")"
   ]
  },
  {
   "cell_type": "code",
   "execution_count": null,
   "metadata": {},
   "outputs": [],
   "source": []
  },
  {
   "cell_type": "code",
   "execution_count": null,
   "metadata": {},
   "outputs": [],
   "source": []
  },
  {
   "cell_type": "code",
   "execution_count": null,
   "metadata": {},
   "outputs": [],
   "source": []
  },
  {
   "cell_type": "code",
   "execution_count": null,
   "metadata": {},
   "outputs": [],
   "source": []
  },
  {
   "cell_type": "markdown",
   "metadata": {},
   "source": [
    "# IGNORE BELOW HERE"
   ]
  },
  {
   "cell_type": "markdown",
   "metadata": {},
   "source": [
    "## compare rnn with θP and with ~θ=θP"
   ]
  },
  {
   "cell_type": "code",
   "execution_count": null,
   "metadata": {},
   "outputs": [
    {
     "name": "stdout",
     "output_type": "stream",
     "text": [
      "is this the same?\n",
      "torch.Size([72, 220, 4])\n",
      "hi\n"
     ]
    }
   ],
   "source": [
    "import low_rank_rnns.mante as mante \n",
    "import pandas as pd\n",
    "\n",
    "conditions = pd.read_csv('../data/conditions_monkeyA.csv')\n",
    "correct_trials = conditions.correct == 1\n",
    "\n",
    "print(mante.fixation_duration_discrete)\n",
    "print(mante.ctx_only_pre_duration_discrete)\n",
    "print(mante.stimulus_duration_discrete)\n",
    "print(mante.delay_duration_discrete)\n",
    "print(mante.decision_duration_discrete)\n",
    "\n",
    "print(mante.stim_begin)\n",
    "print(mante.stim_end)\n",
    "print(mante.response_begin)\n",
    "print(mante.total_duration) \n",
    "\n",
    "inputs, _, _ = mante.generate_mante_data_from_conditions(conditions[correct_trials]['stim_dir'].to_numpy(),\n",
    "                                                         conditions[correct_trials]['stim_col'].to_numpy(),\n",
    "                                                         conditions[correct_trials]['context'].to_numpy())\n",
    "print(inputs.shape)\n",
    "print(\"hi\")"
   ]
  },
  {
   "cell_type": "code",
   "execution_count": 13,
   "metadata": {},
   "outputs": [
    {
     "name": "stdout",
     "output_type": "stream",
     "text": [
      "(72, 8)\n"
     ]
    }
   ],
   "source": [
    "print(conditions[correct_trials].shape)"
   ]
  },
  {
   "cell_type": "code",
   "execution_count": 14,
   "metadata": {},
   "outputs": [],
   "source": [
    "n_neurons = X.shape[-1]\n",
    "hidden_neurons = 0\n",
    "\n",
    "size = n_neurons + hidden_neurons\n",
    "\n",
    "net_lr = LowRankRNN(4, size, n_neurons, 0, 0.2, output_non_linearity=(lambda x: x))\n",
    "net_lr.load_state_dict(torch.load('../models/mante_monkeyA_subspace_rank1_22.pt'))"
   ]
  },
  {
   "cell_type": "code",
   "execution_count": 15,
   "metadata": {},
   "outputs": [],
   "source": [
    "_, traj_lr = net_lr(inputs, return_dynamics=True)\n",
    "traj_lr = traj_lr.detach().numpy()[:, mante.ctx_only_pre_duration_discrete+1:, :][:, :, :n_neurons]"
   ]
  },
  {
   "cell_type": "code",
   "execution_count": 16,
   "metadata": {},
   "outputs": [],
   "source": [
    "# print(inputs.shape)\n",
    "_, traj_fr = net_fr(inputs, return_dynamics=True)\n",
    "traj_fr = traj_fr.detach().numpy()[:, mante.ctx_only_pre_duration_discrete+1:, :][:, :, :n_neurons]"
   ]
  },
  {
   "cell_type": "code",
   "execution_count": 17,
   "metadata": {},
   "outputs": [],
   "source": [
    "_, traj_fr_proj = net_fr_proj(inputs, return_dynamics=True)\n",
    "traj_fr_proj = traj_fr_proj.detach().numpy()[:, mante.ctx_only_pre_duration_discrete+1:, :][:, :, :n_neurons]"
   ]
  },
  {
   "cell_type": "code",
   "execution_count": 18,
   "metadata": {},
   "outputs": [
    {
     "name": "stdout",
     "output_type": "stream",
     "text": [
      "4\n",
      "727\n",
      "727\n"
     ]
    }
   ],
   "source": [
    "print(net_fr.input_size)\n",
    "print(net_fr.hidden_size)\n",
    "print(net_fr.output_size)\n",
    "# print(net_fr.input_size)\n",
    "# print(net_fr.input_size)"
   ]
  },
  {
   "cell_type": "code",
   "execution_count": 19,
   "metadata": {},
   "outputs": [
    {
     "name": "stdout",
     "output_type": "stream",
     "text": [
      "torch.Size([72, 220, 4])\n",
      "(72, 150, 727)\n",
      "(72, 150, 727)\n"
     ]
    }
   ],
   "source": [
    "print(inputs.shape)\n",
    "print(X_monkeyA.shape)\n",
    "print(traj_fr.shape)"
   ]
  },
  {
   "cell_type": "code",
   "execution_count": 20,
   "metadata": {},
   "outputs": [
    {
     "data": {
      "text/plain": [
       "0.048843249617438134"
      ]
     },
     "execution_count": 20,
     "metadata": {},
     "output_type": "execute_result"
    }
   ],
   "source": [
    "# print(traj_fr.shape)\n",
    "\n",
    "# X_monkey is 72 x 150 x 727\n",
    "# traj_fr is 72 x 51 x 727\n",
    "r2_global_fr = stats.r2_score(X_monkeyA.ravel(), traj_fr.ravel())\n",
    "r2_global_fr"
   ]
  },
  {
   "cell_type": "code",
   "execution_count": 21,
   "metadata": {},
   "outputs": [
    {
     "data": {
      "text/plain": [
       "-0.023505687713623047"
      ]
     },
     "execution_count": 21,
     "metadata": {},
     "output_type": "execute_result"
    }
   ],
   "source": [
    "r2_global_fr = stats.r2_score(traj_lr.ravel(), traj_fr.ravel())\n",
    "r2_global_fr"
   ]
  },
  {
   "cell_type": "code",
   "execution_count": 22,
   "metadata": {},
   "outputs": [
    {
     "name": "stdout",
     "output_type": "stream",
     "text": [
      "fr - lr  = 845.100341796875 (should be teeny tiny!)\n"
     ]
    }
   ],
   "source": [
    "print(f\"fr - lr  = {np.linalg.norm(traj_fr-traj_lr)} (should be teeny tiny!)\")"
   ]
  },
  {
   "cell_type": "code",
   "execution_count": 23,
   "metadata": {},
   "outputs": [
    {
     "name": "stdout",
     "output_type": "stream",
     "text": [
      "normal v proj. θ = 1651.4881591796875 (should be teeny tiny!)\n"
     ]
    }
   ],
   "source": [
    "print(f\"normal v proj. θ = {np.linalg.norm(traj_fr-traj_fr_proj)} (should be teeny tiny!)\")"
   ]
  },
  {
   "cell_type": "markdown",
   "metadata": {},
   "source": [
    "wrt θP:\n",
    "* P is on the right so it is acting on the input space of θ\n",
    "* the action of θ on vectors only depends on the components of those vectors inside the span of {x_s}\n",
    "* P projects row space of θ "
   ]
  }
 ],
 "metadata": {
  "kernelspec": {
   "display_name": "Python 3",
   "language": "python",
   "name": "python3"
  },
  "language_info": {
   "codemirror_mode": {
    "name": "ipython",
    "version": 3
   },
   "file_extension": ".py",
   "mimetype": "text/x-python",
   "name": "python",
   "nbconvert_exporter": "python",
   "pygments_lexer": "ipython3",
   "version": "3.10.18"
  }
 },
 "nbformat": 4,
 "nbformat_minor": 2
}
